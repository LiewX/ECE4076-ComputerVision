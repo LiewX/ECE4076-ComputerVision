{
 "cells": [
  {
   "cell_type": "code",
   "execution_count": 1,
   "metadata": {},
   "outputs": [],
   "source": [
    "import numpy as np"
   ]
  },
  {
   "cell_type": "markdown",
   "metadata": {},
   "source": [
    "Question 1"
   ]
  },
  {
   "cell_type": "code",
   "execution_count": 2,
   "metadata": {},
   "outputs": [],
   "source": [
    "greyChannel = np.array([117, 113, 93, 89, 97, 90, 86, 83, 80, 79, 71, 76, 78, 84, 83, 79, 74, 68, 65, 64, 62, 68, 60, 59, 58]).reshape(5, 5)"
   ]
  },
  {
   "cell_type": "code",
   "execution_count": 16,
   "metadata": {},
   "outputs": [
    {
     "name": "stdout",
     "output_type": "stream",
     "text": [
      "[[0.45882353 0.44313725 0.36470588 0.34901961 0.38039216]\n",
      " [0.35294118 0.3372549  0.3254902  0.31372549 0.30980392]\n",
      " [0.27843137 0.29803922 0.30588235 0.32941176 0.3254902 ]\n",
      " [0.30980392 0.29019608 0.26666667 0.25490196 0.25098039]\n",
      " [0.24313725 0.26666667 0.23529412 0.23137255 0.22745098]]\n"
     ]
    }
   ],
   "source": [
    "normalizedValue = greyChannel/255\n",
    "print(normalizedValue)"
   ]
  },
  {
   "cell_type": "markdown",
   "metadata": {},
   "source": [
    "Question 2"
   ]
  },
  {
   "cell_type": "code",
   "execution_count": 9,
   "metadata": {},
   "outputs": [],
   "source": [
    "redChannel = np.array([117, 161, 138, 139, 117, 161, 152, 125, 134, 106, 146, 142, 123, 118, 101, 133, 140, 119, 1190, 96, 138, 122, 1212, 101, 94]).reshape(5, 5)\n",
    "blueChannel = np.array([ 97, 86, 75, 67, 86, 80, 75, 67, 57, 72, 72, 61, 77, 76, 62, 60, 55, 60, 56, 48, 59, 51, 48, 47, 47]).reshape(5, 5)\n",
    "greenChannel = np.array([24, 21, 13, 27, 22, 18, 21, 8, 31, 20, 11, 20, 14, 22, 17, 6, 24, 16, 29, 17, 19, 12, 12, 14, 19]).reshape(5,5)"
   ]
  },
  {
   "cell_type": "code",
   "execution_count": 13,
   "metadata": {},
   "outputs": [
    {
     "name": "stdout",
     "output_type": "stream",
     "text": [
      "[[0.16678039 0.19424314 0.15241176 0.1925451  0.16083137]\n",
      " [0.18560784 0.18652941 0.12736863 0.19944706 0.14574118]\n",
      " [0.15327059 0.17508627 0.14293725 0.16138039 0.13287843]\n",
      " [0.12811765 0.18456863 0.14482353 1.06341961 0.12837647]\n",
      " [0.16891373 0.13575294 1.03331765 0.12399608 0.13234902]]\n"
     ]
    }
   ],
   "source": [
    "relativeLuminance = (0.21*redChannel + 0.72*greenChannel + 0.007*blueChannel)/255\n",
    "print(relativeLuminance)"
   ]
  },
  {
   "cell_type": "markdown",
   "metadata": {},
   "source": [
    "Question 3"
   ]
  },
  {
   "cell_type": "code",
   "execution_count": null,
   "metadata": {},
   "outputs": [],
   "source": []
  }
 ],
 "metadata": {
  "kernelspec": {
   "display_name": "Python 3",
   "language": "python",
   "name": "python3"
  },
  "language_info": {
   "codemirror_mode": {
    "name": "ipython",
    "version": 3
   },
   "file_extension": ".py",
   "mimetype": "text/x-python",
   "name": "python",
   "nbconvert_exporter": "python",
   "pygments_lexer": "ipython3",
   "version": "3.10.11"
  }
 },
 "nbformat": 4,
 "nbformat_minor": 2
}
