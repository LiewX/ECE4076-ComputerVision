{
 "cells": [
  {
   "cell_type": "code",
   "execution_count": 46,
   "metadata": {},
   "outputs": [],
   "source": [
    "import numpy as np\n",
    "from scipy.signal import convolve2d\n",
    "from scipy.ndimage import median_filter"
   ]
  },
  {
   "cell_type": "code",
   "execution_count": 5,
   "metadata": {},
   "outputs": [],
   "source": [
    "im = np.array([0, 0, 0, 0, 0, 0, 10, 10, 10, 0, 0, 10, 10, 10, 0, 0, 10, 0, 10, 0, 10, 0, 0, 0, 0]).reshape(5,5)"
   ]
  },
  {
   "cell_type": "markdown",
   "metadata": {},
   "source": [
    "1a"
   ]
  },
  {
   "cell_type": "code",
   "execution_count": 49,
   "metadata": {},
   "outputs": [],
   "source": [
    "window_size = 3\n",
    "mean_kernel = np.ones([window_size, window_size]) / (window_size*window_size)\n",
    "gaussian_kernel = 0.0625*np.array([1, 2, 1, 2, 4, 2, 1, 2, 1]).reshape(window_size,window_size)\n",
    "\n",
    "mean_image = np.round(convolve2d(im, mean_kernel, mode='valid'))\n",
    "gaussian_image = np.round(convolve2d(im, gaussian_kernel, mode='valid'))\n",
    "median_image = median_filter(im, size=window_size)"
   ]
  },
  {
   "cell_type": "code",
   "execution_count": 50,
   "metadata": {},
   "outputs": [
    {
     "name": "stdout",
     "output_type": "stream",
     "text": [
      "Mean\n",
      "[[4. 7. 4.]\n",
      " [6. 9. 6.]\n",
      " [4. 6. 3.]]\n",
      "\n",
      "Gaussian\n",
      "[[6. 8. 6.]\n",
      " [7. 9. 7.]\n",
      " [5. 5. 4.]]\n",
      "\n",
      "Median\n",
      "[[ 0  0  0  0  0]\n",
      " [ 0  0 10  0  0]\n",
      " [ 0 10 10 10  0]\n",
      " [ 0  0 10  0  0]\n",
      " [10  0  0  0  0]]\n"
     ]
    }
   ],
   "source": [
    "print(\"Mean\")\n",
    "print(mean_image)\n",
    "print(\"\\nGaussian\")\n",
    "print(gaussian_image)\n",
    "print(\"\\nMedian\")\n",
    "print(median_image)"
   ]
  },
  {
   "cell_type": "markdown",
   "metadata": {},
   "source": [
    "3a"
   ]
  },
  {
   "cell_type": "code",
   "execution_count": 53,
   "metadata": {},
   "outputs": [],
   "source": [
    "im1_p1 = np.array([0, 0, 0, 0, 10, 10, 0, 10, 10]).reshape(3,3)\n",
    "im1_p2 = np.array([10, 20, 20, 10, 20, 20, 10, 10, 10]).reshape(3,3)\n",
    "im2_p1 = np.array([10, 10, 10, 10, 20, 20, 10, 20, 20]).reshape(3,3)\n",
    "im2_p2 = np.array([0, 10, 10, 0, 10, 10, 0, 0, 0]).reshape(3,3)"
   ]
  },
  {
   "cell_type": "code",
   "execution_count": 66,
   "metadata": {},
   "outputs": [],
   "source": [
    "def calculate_ssd(im1, im2):\n",
    "    ssd = 0\n",
    "    for i in range(3):\n",
    "        for j in range(3):\n",
    "            ssd = ssd + (im1[i, j] - im2[i, j])**2\n",
    "    return ssd"
   ]
  },
  {
   "cell_type": "code",
   "execution_count": 69,
   "metadata": {},
   "outputs": [
    {
     "name": "stdout",
     "output_type": "stream",
     "text": [
      "SSD between im1 patch 1 & im2 patch 1\n",
      "900\n",
      "SSD between im1 patch 1 & im2 patch 2\n",
      "400\n",
      "SSD between im1 patch 2 & im2 patch 2\n",
      "900\n"
     ]
    }
   ],
   "source": [
    "print(\"SSD between im1 patch 1 & im2 patch 1\")\n",
    "print(calculate_ssd(im1_p1, im2_p1))\n",
    "print(\"SSD between im1 patch 1 & im2 patch 2\")\n",
    "print(calculate_ssd(im1_p1, im2_p2))\n",
    "print(\"SSD between im1 patch 2 & im2 patch 2\")\n",
    "print(calculate_ssd(im1_p2, im2_p2))"
   ]
  },
  {
   "cell_type": "code",
   "execution_count": 72,
   "metadata": {},
   "outputs": [
    {
     "name": "stdout",
     "output_type": "stream",
     "text": [
      "SSD between im1 patch 1 & im2 patch 1\n",
      "0.0\n",
      "SSD between im1 patch 1 & im2 patch 2\n",
      "400.0\n",
      "SSD between im1 patch 2 & im2 patch 2\n",
      "0.0\n",
      "Im1 patch 1 matches Im2 patch 1, and Im2 patch 2 matches Im2 patch 2\n"
     ]
    }
   ],
   "source": [
    "# Normalize by subtracting the mean. Dividing by standard deviation is not used as subtracting the mean is sufficient for this case.\n",
    "print(\"SSD between im1 patch 1 & im2 patch 1\")\n",
    "print(calculate_ssd(im1_p1-np.mean(im1_p1), im2_p1-np.mean(im2_p1)))\n",
    "print(\"SSD between im1 patch 1 & im2 patch 2\")\n",
    "print(calculate_ssd(im1_p1-np.mean(im1_p1), im2_p2-np.mean(im2_p2)))\n",
    "print(\"SSD between im1 patch 2 & im2 patch 2\")\n",
    "print(calculate_ssd(im1_p2-np.mean(im1_p2), im2_p2-np.mean(im2_p2)))\n",
    "\n",
    "print(\"Im1 patch 1 matches Im2 patch 1, and Im2 patch 2 matches Im2 patch 2\")"
   ]
  }
 ],
 "metadata": {
  "kernelspec": {
   "display_name": "Python 3",
   "language": "python",
   "name": "python3"
  },
  "language_info": {
   "codemirror_mode": {
    "name": "ipython",
    "version": 3
   },
   "file_extension": ".py",
   "mimetype": "text/x-python",
   "name": "python",
   "nbconvert_exporter": "python",
   "pygments_lexer": "ipython3",
   "version": "3.10.11"
  }
 },
 "nbformat": 4,
 "nbformat_minor": 2
}
